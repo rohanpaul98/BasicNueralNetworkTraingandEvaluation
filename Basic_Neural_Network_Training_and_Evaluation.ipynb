{
  "nbformat": 4,
  "nbformat_minor": 0,
  "metadata": {
    "colab": {
      "name": "Basic Neural Network Training and Evaluation",
      "provenance": [],
      "collapsed_sections": []
    },
    "kernelspec": {
      "name": "python3",
      "display_name": "Python 3"
    },
    "language_info": {
      "name": "python"
    }
  },
  "cells": [
    {
      "cell_type": "code",
      "metadata": {
        "id": "OqOeh6XWrC00"
      },
      "source": [
        "import tensorflow as tf\n",
        "from tensorflow.keras import datasets, layers, models\n",
        "import matplotlib.pyplot as plt\n",
        "import numpy as np\n",
        "from sklearn.metrics import confusion_matrix , classification_report"
      ],
      "execution_count": 15,
      "outputs": []
    },
    {
      "cell_type": "markdown",
      "metadata": {
        "id": "GIQ9Y09OzjC5"
      },
      "source": [
        "Loading the dataset"
      ]
    },
    {
      "cell_type": "code",
      "metadata": {
        "colab": {
          "base_uri": "https://localhost:8080/"
        },
        "id": "GT-bIxYSrRZT",
        "outputId": "f4eb91f4-2afa-4f9a-c124-cf9a24295306"
      },
      "source": [
        "(x_train,y_train),(x_test,y_test) = datasets.cifar10.load_data()"
      ],
      "execution_count": 17,
      "outputs": [
        {
          "output_type": "stream",
          "text": [
            "Downloading data from https://www.cs.toronto.edu/~kriz/cifar-10-python.tar.gz\n",
            "170500096/170498071 [==============================] - 4s 0us/step\n"
          ],
          "name": "stdout"
        }
      ]
    },
    {
      "cell_type": "code",
      "metadata": {
        "colab": {
          "base_uri": "https://localhost:8080/"
        },
        "id": "jsmIO78vrhvq",
        "outputId": "3f904bc0-8f68-4222-fd3d-057e12c786e8"
      },
      "source": [
        "x_train.shape"
      ],
      "execution_count": 18,
      "outputs": [
        {
          "output_type": "execute_result",
          "data": {
            "text/plain": [
              "(50000, 32, 32, 3)"
            ]
          },
          "metadata": {
            "tags": []
          },
          "execution_count": 18
        }
      ]
    },
    {
      "cell_type": "code",
      "metadata": {
        "colab": {
          "base_uri": "https://localhost:8080/"
        },
        "id": "79MAP1OHrmq0",
        "outputId": "8c25081f-2771-464c-afe4-ac605ab55de8"
      },
      "source": [
        "x_test.shape"
      ],
      "execution_count": 19,
      "outputs": [
        {
          "output_type": "execute_result",
          "data": {
            "text/plain": [
              "(10000, 32, 32, 3)"
            ]
          },
          "metadata": {
            "tags": []
          },
          "execution_count": 19
        }
      ]
    },
    {
      "cell_type": "code",
      "metadata": {
        "id": "x808-8bHz5nX"
      },
      "source": [
        "y_train = y_train.reshape(-1,)\n",
        "y_test = y_test.reshape(-1,) "
      ],
      "execution_count": 20,
      "outputs": []
    },
    {
      "cell_type": "code",
      "metadata": {
        "id": "MtDBQ_ea0JCV"
      },
      "source": [
        "classes = [\"airplane\",\"automobile\",\"bird\",\"cat\",\"deer\",\"dog\",\"frog\",\"horse\",\"ship\",\"truck\"]"
      ],
      "execution_count": 21,
      "outputs": []
    },
    {
      "cell_type": "markdown",
      "metadata": {
        "id": "UQi1kMr60d4M"
      },
      "source": [
        "Normalising the data"
      ]
    },
    {
      "cell_type": "code",
      "metadata": {
        "id": "FfOe-knD0jxn"
      },
      "source": [
        "x_train = x_train / 255.0\n",
        "x_test = x_test / 255.0"
      ],
      "execution_count": 22,
      "outputs": []
    },
    {
      "cell_type": "code",
      "metadata": {
        "id": "dfsbMBaX0pfG"
      },
      "source": [
        "class NetA:\n",
        "  def model(self):\n",
        "    ann = models.Sequential([\n",
        "        layers.Flatten(input_shape=(32,32,3)),\n",
        "        layers.Dense(10, activation='softmax')    \n",
        "        ])\n",
        "    ann.compile(optimizer='SGD',\n",
        "              loss='sparse_categorical_crossentropy',\n",
        "              metrics=['accuracy'])\n",
        "    ann.fit(x_train, y_train, epochs=50)\n",
        "    y_pred = ann.predict(x_test)\n",
        "    y_pred_classes = [np.argmax(element) for element in y_pred]\n",
        "    print(\"Classification Report for NET A: \\n\", classification_report(y_test, y_pred_classes))\n"
      ],
      "execution_count": 23,
      "outputs": []
    },
    {
      "cell_type": "code",
      "metadata": {
        "id": "GNvRMkakHdac"
      },
      "source": [
        "class NetB:\n",
        "  def model(self):\n",
        "    ann2 = models.Sequential([\n",
        "    layers.Flatten(),\n",
        "    layers.Dense(300, activation='relu'),\n",
        "    layers.Dense(10, activation='softmax')\n",
        "    ])\n",
        "    ann2.compile(optimizer='adam',\n",
        "              loss='sparse_categorical_crossentropy',\n",
        "              metrics=['accuracy'])\n",
        "    ann2.fit(x_train, y_train, epochs=50)\n",
        "    y_pred = ann2.predict(x_test)\n",
        "    y_pred_classes = [np.argmax(element) for element in y_pred]\n",
        "    print(\"Classification Report for NET B: \\n\", classification_report(y_test, y_pred_classes))\n"
      ],
      "execution_count": 24,
      "outputs": []
    },
    {
      "cell_type": "code",
      "metadata": {
        "id": "Men2atUMP4Fw"
      },
      "source": [
        "class NetC:\n",
        "  def model(self):\n",
        "    cnn = models.Sequential([\n",
        "    layers.Conv2D(filters=25,kernel_size= 5, activation='relu'),\n",
        "    layers.MaxPooling2D((2, 2),strides=2),\n",
        "    layers.Flatten(),\n",
        "    layers.Dense(10, activation='softmax')\n",
        "    ])\n",
        "    cnn.compile(optimizer='adam',\n",
        "              loss='sparse_categorical_crossentropy',\n",
        "              metrics=['accuracy'])\n",
        "    cnn.fit(x_train, y_train, epochs=50)\n",
        "    y_pred = cnn.predict(x_test)\n",
        "    y_pred_classes = [np.argmax(element) for element in y_pred]\n",
        "    print(\"Classification Report for NET C: \\n\", classification_report(y_test, y_pred_classes))"
      ],
      "execution_count": 25,
      "outputs": []
    },
    {
      "cell_type": "markdown",
      "metadata": {
        "id": "sBr_fZTIkh75"
      },
      "source": [
        "Designing Neural Network A"
      ]
    },
    {
      "cell_type": "code",
      "metadata": {
        "colab": {
          "base_uri": "https://localhost:8080/"
        },
        "id": "la_K9MPZUJlA",
        "outputId": "727a4c57-bef9-4e0e-b629-33ef0ca44d25"
      },
      "source": [
        "p1 = NetA()\n",
        "p1.model()"
      ],
      "execution_count": 12,
      "outputs": [
        {
          "output_type": "stream",
          "text": [
            "Epoch 1/50\n",
            "1563/1563 [==============================] - 3s 2ms/step - loss: 1.9447 - accuracy: 0.3060\n",
            "Epoch 2/50\n",
            "1563/1563 [==============================] - 3s 2ms/step - loss: 1.8426 - accuracy: 0.3523\n",
            "Epoch 3/50\n",
            "1563/1563 [==============================] - 3s 2ms/step - loss: 1.8128 - accuracy: 0.3661\n",
            "Epoch 4/50\n",
            "1563/1563 [==============================] - 3s 2ms/step - loss: 1.7946 - accuracy: 0.3705\n",
            "Epoch 5/50\n",
            "1563/1563 [==============================] - 3s 2ms/step - loss: 1.7816 - accuracy: 0.3802\n",
            "Epoch 6/50\n",
            "1563/1563 [==============================] - 4s 2ms/step - loss: 1.7769 - accuracy: 0.3835\n",
            "Epoch 7/50\n",
            "1563/1563 [==============================] - 3s 2ms/step - loss: 1.7642 - accuracy: 0.3850\n",
            "Epoch 8/50\n",
            "1563/1563 [==============================] - 3s 2ms/step - loss: 1.7591 - accuracy: 0.3884\n",
            "Epoch 9/50\n",
            "1563/1563 [==============================] - 3s 2ms/step - loss: 1.7514 - accuracy: 0.3909\n",
            "Epoch 10/50\n",
            "1563/1563 [==============================] - 3s 2ms/step - loss: 1.7489 - accuracy: 0.3926\n",
            "Epoch 11/50\n",
            "1563/1563 [==============================] - 3s 2ms/step - loss: 1.7424 - accuracy: 0.3959\n",
            "Epoch 12/50\n",
            "1563/1563 [==============================] - 3s 2ms/step - loss: 1.7400 - accuracy: 0.3962\n",
            "Epoch 13/50\n",
            "1563/1563 [==============================] - 3s 2ms/step - loss: 1.7363 - accuracy: 0.3991\n",
            "Epoch 14/50\n",
            "1563/1563 [==============================] - 3s 2ms/step - loss: 1.7343 - accuracy: 0.3997\n",
            "Epoch 15/50\n",
            "1563/1563 [==============================] - 3s 2ms/step - loss: 1.7309 - accuracy: 0.4006\n",
            "Epoch 16/50\n",
            "1563/1563 [==============================] - 3s 2ms/step - loss: 1.7271 - accuracy: 0.4013\n",
            "Epoch 17/50\n",
            "1563/1563 [==============================] - 3s 2ms/step - loss: 1.7245 - accuracy: 0.4028\n",
            "Epoch 18/50\n",
            "1563/1563 [==============================] - 3s 2ms/step - loss: 1.7214 - accuracy: 0.4036\n",
            "Epoch 19/50\n",
            "1563/1563 [==============================] - 3s 2ms/step - loss: 1.7194 - accuracy: 0.4048\n",
            "Epoch 20/50\n",
            "1563/1563 [==============================] - 3s 2ms/step - loss: 1.7171 - accuracy: 0.4063\n",
            "Epoch 21/50\n",
            "1563/1563 [==============================] - 3s 2ms/step - loss: 1.7138 - accuracy: 0.4076\n",
            "Epoch 22/50\n",
            "1563/1563 [==============================] - 3s 2ms/step - loss: 1.7107 - accuracy: 0.4090\n",
            "Epoch 23/50\n",
            "1563/1563 [==============================] - 3s 2ms/step - loss: 1.7127 - accuracy: 0.4087\n",
            "Epoch 24/50\n",
            "1563/1563 [==============================] - 3s 2ms/step - loss: 1.7097 - accuracy: 0.4097\n",
            "Epoch 25/50\n",
            "1563/1563 [==============================] - 3s 2ms/step - loss: 1.7071 - accuracy: 0.4108\n",
            "Epoch 26/50\n",
            "1563/1563 [==============================] - 3s 2ms/step - loss: 1.7047 - accuracy: 0.4122\n",
            "Epoch 27/50\n",
            "1563/1563 [==============================] - 3s 2ms/step - loss: 1.7045 - accuracy: 0.4129\n",
            "Epoch 28/50\n",
            "1563/1563 [==============================] - 3s 2ms/step - loss: 1.7029 - accuracy: 0.4124\n",
            "Epoch 29/50\n",
            "1563/1563 [==============================] - 3s 2ms/step - loss: 1.7019 - accuracy: 0.4133\n",
            "Epoch 30/50\n",
            "1563/1563 [==============================] - 3s 2ms/step - loss: 1.6993 - accuracy: 0.4137\n",
            "Epoch 31/50\n",
            "1563/1563 [==============================] - 3s 2ms/step - loss: 1.6977 - accuracy: 0.4141\n",
            "Epoch 32/50\n",
            "1563/1563 [==============================] - 3s 2ms/step - loss: 1.6980 - accuracy: 0.4149\n",
            "Epoch 33/50\n",
            "1563/1563 [==============================] - 3s 2ms/step - loss: 1.6973 - accuracy: 0.4142\n",
            "Epoch 34/50\n",
            "1563/1563 [==============================] - 3s 2ms/step - loss: 1.6960 - accuracy: 0.4144\n",
            "Epoch 35/50\n",
            "1563/1563 [==============================] - 3s 2ms/step - loss: 1.6954 - accuracy: 0.4147\n",
            "Epoch 36/50\n",
            "1563/1563 [==============================] - 3s 2ms/step - loss: 1.6963 - accuracy: 0.4146\n",
            "Epoch 37/50\n",
            "1563/1563 [==============================] - 3s 2ms/step - loss: 1.6922 - accuracy: 0.4161\n",
            "Epoch 38/50\n",
            "1563/1563 [==============================] - 3s 2ms/step - loss: 1.6920 - accuracy: 0.4162\n",
            "Epoch 39/50\n",
            "1563/1563 [==============================] - 3s 2ms/step - loss: 1.6916 - accuracy: 0.4191\n",
            "Epoch 40/50\n",
            "1563/1563 [==============================] - 3s 2ms/step - loss: 1.6924 - accuracy: 0.4161\n",
            "Epoch 41/50\n",
            "1563/1563 [==============================] - 3s 2ms/step - loss: 1.6897 - accuracy: 0.4174\n",
            "Epoch 42/50\n",
            "1563/1563 [==============================] - 3s 2ms/step - loss: 1.6886 - accuracy: 0.4172\n",
            "Epoch 43/50\n",
            "1563/1563 [==============================] - 3s 2ms/step - loss: 1.6872 - accuracy: 0.4205\n",
            "Epoch 44/50\n",
            "1563/1563 [==============================] - 3s 2ms/step - loss: 1.6887 - accuracy: 0.4183\n",
            "Epoch 45/50\n",
            "1563/1563 [==============================] - 3s 2ms/step - loss: 1.6879 - accuracy: 0.4177\n",
            "Epoch 46/50\n",
            "1563/1563 [==============================] - 3s 2ms/step - loss: 1.6862 - accuracy: 0.4182\n",
            "Epoch 47/50\n",
            "1563/1563 [==============================] - 3s 2ms/step - loss: 1.6859 - accuracy: 0.4188\n",
            "Epoch 48/50\n",
            "1563/1563 [==============================] - 3s 2ms/step - loss: 1.6845 - accuracy: 0.4208\n",
            "Epoch 49/50\n",
            "1563/1563 [==============================] - 3s 2ms/step - loss: 1.6841 - accuracy: 0.4210\n",
            "Epoch 50/50\n",
            "1563/1563 [==============================] - 3s 2ms/step - loss: 1.6836 - accuracy: 0.4205\n",
            "Classification Report for NET A: \n",
            "               precision    recall  f1-score   support\n",
            "\n",
            "           0       0.59      0.23      0.33      1000\n",
            "           1       0.58      0.38      0.46      1000\n",
            "           2       0.31      0.15      0.20      1000\n",
            "           3       0.34      0.10      0.16      1000\n",
            "           4       0.48      0.06      0.10      1000\n",
            "           5       0.36      0.28      0.32      1000\n",
            "           6       0.33      0.66      0.44      1000\n",
            "           7       0.23      0.74      0.35      1000\n",
            "           8       0.52      0.52      0.52      1000\n",
            "           9       0.46      0.47      0.46      1000\n",
            "\n",
            "    accuracy                           0.36     10000\n",
            "   macro avg       0.42      0.36      0.33     10000\n",
            "weighted avg       0.42      0.36      0.33     10000\n",
            "\n"
          ],
          "name": "stdout"
        }
      ]
    },
    {
      "cell_type": "markdown",
      "metadata": {
        "id": "-p6hW2-ykppz"
      },
      "source": [
        "Designing Neural Network B\n"
      ]
    },
    {
      "cell_type": "code",
      "metadata": {
        "colab": {
          "base_uri": "https://localhost:8080/"
        },
        "id": "Jjv2phYyT-Wb",
        "outputId": "8d92704e-a533-42b6-f34a-aff2f409e67a"
      },
      "source": [
        "p2 = NetB()\n",
        "p2.model()"
      ],
      "execution_count": 13,
      "outputs": [
        {
          "output_type": "stream",
          "text": [
            "Epoch 1/50\n",
            "1563/1563 [==============================] - 14s 9ms/step - loss: 1.8916 - accuracy: 0.3231\n",
            "Epoch 2/50\n",
            "1563/1563 [==============================] - 14s 9ms/step - loss: 1.7266 - accuracy: 0.3814\n",
            "Epoch 3/50\n",
            "1563/1563 [==============================] - 14s 9ms/step - loss: 1.6666 - accuracy: 0.4068\n",
            "Epoch 4/50\n",
            "1563/1563 [==============================] - 14s 9ms/step - loss: 1.6282 - accuracy: 0.4191\n",
            "Epoch 5/50\n",
            "1563/1563 [==============================] - 13s 8ms/step - loss: 1.6033 - accuracy: 0.4300\n",
            "Epoch 6/50\n",
            "1563/1563 [==============================] - 13s 8ms/step - loss: 1.5827 - accuracy: 0.4352\n",
            "Epoch 7/50\n",
            "1563/1563 [==============================] - 14s 9ms/step - loss: 1.5650 - accuracy: 0.4423\n",
            "Epoch 8/50\n",
            "1563/1563 [==============================] - 13s 9ms/step - loss: 1.5559 - accuracy: 0.4473\n",
            "Epoch 9/50\n",
            "1563/1563 [==============================] - 13s 9ms/step - loss: 1.5417 - accuracy: 0.4498\n",
            "Epoch 10/50\n",
            "1563/1563 [==============================] - 14s 9ms/step - loss: 1.5301 - accuracy: 0.4555\n",
            "Epoch 11/50\n",
            "1563/1563 [==============================] - 14s 9ms/step - loss: 1.5227 - accuracy: 0.4582\n",
            "Epoch 12/50\n",
            "1563/1563 [==============================] - 13s 9ms/step - loss: 1.5140 - accuracy: 0.4622\n",
            "Epoch 13/50\n",
            "1563/1563 [==============================] - 13s 9ms/step - loss: 1.5078 - accuracy: 0.4639\n",
            "Epoch 14/50\n",
            "1563/1563 [==============================] - 12s 8ms/step - loss: 1.5007 - accuracy: 0.4642\n",
            "Epoch 15/50\n",
            "1563/1563 [==============================] - 13s 8ms/step - loss: 1.4918 - accuracy: 0.4690\n",
            "Epoch 16/50\n",
            "1563/1563 [==============================] - 13s 8ms/step - loss: 1.4865 - accuracy: 0.4712\n",
            "Epoch 17/50\n",
            "1563/1563 [==============================] - 13s 9ms/step - loss: 1.4857 - accuracy: 0.4691\n",
            "Epoch 18/50\n",
            "1563/1563 [==============================] - 14s 9ms/step - loss: 1.4776 - accuracy: 0.4723\n",
            "Epoch 19/50\n",
            "1563/1563 [==============================] - 14s 9ms/step - loss: 1.4720 - accuracy: 0.4740\n",
            "Epoch 20/50\n",
            "1563/1563 [==============================] - 14s 9ms/step - loss: 1.4711 - accuracy: 0.4749\n",
            "Epoch 21/50\n",
            "1563/1563 [==============================] - 14s 9ms/step - loss: 1.4669 - accuracy: 0.4781\n",
            "Epoch 22/50\n",
            "1563/1563 [==============================] - 14s 9ms/step - loss: 1.4594 - accuracy: 0.4815\n",
            "Epoch 23/50\n",
            "1563/1563 [==============================] - 13s 8ms/step - loss: 1.4587 - accuracy: 0.4811\n",
            "Epoch 24/50\n",
            "1563/1563 [==============================] - 13s 8ms/step - loss: 1.4517 - accuracy: 0.4834\n",
            "Epoch 25/50\n",
            "1563/1563 [==============================] - 13s 9ms/step - loss: 1.4497 - accuracy: 0.4831\n",
            "Epoch 26/50\n",
            "1563/1563 [==============================] - 14s 9ms/step - loss: 1.4461 - accuracy: 0.4849\n",
            "Epoch 27/50\n",
            "1563/1563 [==============================] - 14s 9ms/step - loss: 1.4411 - accuracy: 0.4881\n",
            "Epoch 28/50\n",
            "1563/1563 [==============================] - 14s 9ms/step - loss: 1.4384 - accuracy: 0.4890\n",
            "Epoch 29/50\n",
            "1563/1563 [==============================] - 14s 9ms/step - loss: 1.4376 - accuracy: 0.4870\n",
            "Epoch 30/50\n",
            "1563/1563 [==============================] - 14s 9ms/step - loss: 1.4285 - accuracy: 0.4925\n",
            "Epoch 31/50\n",
            "1563/1563 [==============================] - 14s 9ms/step - loss: 1.4281 - accuracy: 0.4914\n",
            "Epoch 32/50\n",
            "1563/1563 [==============================] - 13s 8ms/step - loss: 1.4302 - accuracy: 0.4905\n",
            "Epoch 33/50\n",
            "1563/1563 [==============================] - 14s 9ms/step - loss: 1.4224 - accuracy: 0.4950\n",
            "Epoch 34/50\n",
            "1563/1563 [==============================] - 14s 9ms/step - loss: 1.4227 - accuracy: 0.4952\n",
            "Epoch 35/50\n",
            "1563/1563 [==============================] - 14s 9ms/step - loss: 1.4201 - accuracy: 0.4962\n",
            "Epoch 36/50\n",
            "1563/1563 [==============================] - 12s 8ms/step - loss: 1.4214 - accuracy: 0.4952\n",
            "Epoch 37/50\n",
            "1563/1563 [==============================] - 13s 8ms/step - loss: 1.4175 - accuracy: 0.4980\n",
            "Epoch 38/50\n",
            "1563/1563 [==============================] - 14s 9ms/step - loss: 1.4125 - accuracy: 0.4970\n",
            "Epoch 39/50\n",
            "1563/1563 [==============================] - 13s 9ms/step - loss: 1.4090 - accuracy: 0.4996\n",
            "Epoch 40/50\n",
            "1563/1563 [==============================] - 13s 8ms/step - loss: 1.4102 - accuracy: 0.4977\n",
            "Epoch 41/50\n",
            "1563/1563 [==============================] - 13s 9ms/step - loss: 1.4063 - accuracy: 0.5005\n",
            "Epoch 42/50\n",
            "1563/1563 [==============================] - 13s 8ms/step - loss: 1.4038 - accuracy: 0.5005\n",
            "Epoch 43/50\n",
            "1563/1563 [==============================] - 13s 8ms/step - loss: 1.4054 - accuracy: 0.5022\n",
            "Epoch 44/50\n",
            "1563/1563 [==============================] - 12s 8ms/step - loss: 1.4011 - accuracy: 0.5020\n",
            "Epoch 45/50\n",
            "1563/1563 [==============================] - 14s 9ms/step - loss: 1.4022 - accuracy: 0.5019\n",
            "Epoch 46/50\n",
            "1563/1563 [==============================] - 13s 8ms/step - loss: 1.3973 - accuracy: 0.5027\n",
            "Epoch 47/50\n",
            "1563/1563 [==============================] - 13s 8ms/step - loss: 1.3979 - accuracy: 0.5022\n",
            "Epoch 48/50\n",
            "1563/1563 [==============================] - 12s 8ms/step - loss: 1.3948 - accuracy: 0.5037\n",
            "Epoch 49/50\n",
            "1563/1563 [==============================] - 13s 8ms/step - loss: 1.3917 - accuracy: 0.5052\n",
            "Epoch 50/50\n",
            "1563/1563 [==============================] - 12s 8ms/step - loss: 1.3956 - accuracy: 0.5037\n",
            "Classification Report for NET B: \n",
            "               precision    recall  f1-score   support\n",
            "\n",
            "           0       0.44      0.66      0.53      1000\n",
            "           1       0.61      0.59      0.60      1000\n",
            "           2       0.38      0.22      0.27      1000\n",
            "           3       0.32      0.26      0.29      1000\n",
            "           4       0.37      0.52      0.43      1000\n",
            "           5       0.48      0.27      0.35      1000\n",
            "           6       0.45      0.56      0.50      1000\n",
            "           7       0.52      0.49      0.51      1000\n",
            "           8       0.61      0.55      0.58      1000\n",
            "           9       0.52      0.55      0.53      1000\n",
            "\n",
            "    accuracy                           0.47     10000\n",
            "   macro avg       0.47      0.47      0.46     10000\n",
            "weighted avg       0.47      0.47      0.46     10000\n",
            "\n"
          ],
          "name": "stdout"
        }
      ]
    },
    {
      "cell_type": "markdown",
      "metadata": {
        "id": "PK4-MlgU2fK2"
      },
      "source": [
        "Designing Neural Network C\n"
      ]
    },
    {
      "cell_type": "code",
      "metadata": {
        "colab": {
          "base_uri": "https://localhost:8080/"
        },
        "id": "Ttftg89Gk86k",
        "outputId": "ab723ccd-9645-4b88-868e-e7f25722c9f4"
      },
      "source": [
        "p3 = NetC()\n",
        "p3.model()"
      ],
      "execution_count": 26,
      "outputs": [
        {
          "output_type": "stream",
          "text": [
            "Epoch 1/50\n",
            "1563/1563 [==============================] - 41s 26ms/step - loss: 1.5089 - accuracy: 0.4681\n",
            "Epoch 2/50\n",
            "1563/1563 [==============================] - 40s 26ms/step - loss: 1.2491 - accuracy: 0.5637\n",
            "Epoch 3/50\n",
            "1563/1563 [==============================] - 40s 25ms/step - loss: 1.1363 - accuracy: 0.6058\n",
            "Epoch 4/50\n",
            "1563/1563 [==============================] - 40s 25ms/step - loss: 1.0748 - accuracy: 0.6298\n",
            "Epoch 5/50\n",
            "1563/1563 [==============================] - 39s 25ms/step - loss: 1.0218 - accuracy: 0.6467\n",
            "Epoch 6/50\n",
            "1563/1563 [==============================] - 39s 25ms/step - loss: 0.9886 - accuracy: 0.6592\n",
            "Epoch 7/50\n",
            "1563/1563 [==============================] - 39s 25ms/step - loss: 0.9616 - accuracy: 0.6670\n",
            "Epoch 8/50\n",
            "1563/1563 [==============================] - 39s 25ms/step - loss: 0.9361 - accuracy: 0.6763\n",
            "Epoch 9/50\n",
            "1563/1563 [==============================] - 39s 25ms/step - loss: 0.9072 - accuracy: 0.6874\n",
            "Epoch 10/50\n",
            "1563/1563 [==============================] - 39s 25ms/step - loss: 0.8873 - accuracy: 0.6935\n",
            "Epoch 11/50\n",
            "1563/1563 [==============================] - 39s 25ms/step - loss: 0.8699 - accuracy: 0.6985\n",
            "Epoch 12/50\n",
            "1563/1563 [==============================] - 39s 25ms/step - loss: 0.8567 - accuracy: 0.7053\n",
            "Epoch 13/50\n",
            "1563/1563 [==============================] - 39s 25ms/step - loss: 0.8414 - accuracy: 0.7100\n",
            "Epoch 14/50\n",
            "1563/1563 [==============================] - 39s 25ms/step - loss: 0.8278 - accuracy: 0.7145\n",
            "Epoch 15/50\n",
            "1563/1563 [==============================] - 38s 24ms/step - loss: 0.8107 - accuracy: 0.7204\n",
            "Epoch 16/50\n",
            "1563/1563 [==============================] - 38s 25ms/step - loss: 0.8032 - accuracy: 0.7220\n",
            "Epoch 17/50\n",
            "1563/1563 [==============================] - 39s 25ms/step - loss: 0.7918 - accuracy: 0.7255\n",
            "Epoch 18/50\n",
            "1563/1563 [==============================] - 39s 25ms/step - loss: 0.7807 - accuracy: 0.7312\n",
            "Epoch 19/50\n",
            "1563/1563 [==============================] - 39s 25ms/step - loss: 0.7687 - accuracy: 0.7337\n",
            "Epoch 20/50\n",
            "1563/1563 [==============================] - 39s 25ms/step - loss: 0.7609 - accuracy: 0.7352\n",
            "Epoch 21/50\n",
            "1563/1563 [==============================] - 38s 25ms/step - loss: 0.7555 - accuracy: 0.7389\n",
            "Epoch 22/50\n",
            "1563/1563 [==============================] - 39s 25ms/step - loss: 0.7406 - accuracy: 0.7454\n",
            "Epoch 23/50\n",
            "1563/1563 [==============================] - 39s 25ms/step - loss: 0.7349 - accuracy: 0.7468\n",
            "Epoch 24/50\n",
            "1563/1563 [==============================] - 38s 25ms/step - loss: 0.7253 - accuracy: 0.7484\n",
            "Epoch 25/50\n",
            "1563/1563 [==============================] - 39s 25ms/step - loss: 0.7167 - accuracy: 0.7518\n",
            "Epoch 26/50\n",
            "1563/1563 [==============================] - 39s 25ms/step - loss: 0.7098 - accuracy: 0.7532\n",
            "Epoch 27/50\n",
            "1563/1563 [==============================] - 38s 24ms/step - loss: 0.7055 - accuracy: 0.7561\n",
            "Epoch 28/50\n",
            "1563/1563 [==============================] - 38s 25ms/step - loss: 0.6942 - accuracy: 0.7595\n",
            "Epoch 29/50\n",
            "1563/1563 [==============================] - 38s 25ms/step - loss: 0.6894 - accuracy: 0.7619\n",
            "Epoch 30/50\n",
            "1563/1563 [==============================] - 38s 24ms/step - loss: 0.6806 - accuracy: 0.7630\n",
            "Epoch 31/50\n",
            "1563/1563 [==============================] - 38s 24ms/step - loss: 0.6742 - accuracy: 0.7680\n",
            "Epoch 32/50\n",
            "1563/1563 [==============================] - 38s 25ms/step - loss: 0.6753 - accuracy: 0.7664\n",
            "Epoch 33/50\n",
            "1563/1563 [==============================] - 38s 24ms/step - loss: 0.6646 - accuracy: 0.7685\n",
            "Epoch 34/50\n",
            "1563/1563 [==============================] - 38s 24ms/step - loss: 0.6582 - accuracy: 0.7720\n",
            "Epoch 35/50\n",
            "1563/1563 [==============================] - 38s 24ms/step - loss: 0.6536 - accuracy: 0.7718\n",
            "Epoch 36/50\n",
            "1563/1563 [==============================] - 38s 24ms/step - loss: 0.6481 - accuracy: 0.7740\n",
            "Epoch 37/50\n",
            "1563/1563 [==============================] - 38s 25ms/step - loss: 0.6413 - accuracy: 0.7769\n",
            "Epoch 38/50\n",
            "1563/1563 [==============================] - 38s 25ms/step - loss: 0.6382 - accuracy: 0.7783\n",
            "Epoch 39/50\n",
            "1563/1563 [==============================] - 38s 24ms/step - loss: 0.6336 - accuracy: 0.7803\n",
            "Epoch 40/50\n",
            "1563/1563 [==============================] - 38s 24ms/step - loss: 0.6230 - accuracy: 0.7839\n",
            "Epoch 41/50\n",
            "1563/1563 [==============================] - 38s 24ms/step - loss: 0.6214 - accuracy: 0.7825\n",
            "Epoch 42/50\n",
            "1563/1563 [==============================] - 38s 24ms/step - loss: 0.6213 - accuracy: 0.7831\n",
            "Epoch 43/50\n",
            "1563/1563 [==============================] - 38s 24ms/step - loss: 0.6151 - accuracy: 0.7866\n",
            "Epoch 44/50\n",
            "1563/1563 [==============================] - 38s 24ms/step - loss: 0.6073 - accuracy: 0.7864\n",
            "Epoch 45/50\n",
            "1563/1563 [==============================] - 38s 24ms/step - loss: 0.6040 - accuracy: 0.7880\n",
            "Epoch 46/50\n",
            "1563/1563 [==============================] - 38s 24ms/step - loss: 0.5994 - accuracy: 0.7899\n",
            "Epoch 47/50\n",
            "1563/1563 [==============================] - 38s 24ms/step - loss: 0.5965 - accuracy: 0.7915\n",
            "Epoch 48/50\n",
            "1563/1563 [==============================] - 38s 24ms/step - loss: 0.5929 - accuracy: 0.7924\n",
            "Epoch 49/50\n",
            "1563/1563 [==============================] - 38s 24ms/step - loss: 0.5895 - accuracy: 0.7937\n",
            "Epoch 50/50\n",
            "1563/1563 [==============================] - 38s 25ms/step - loss: 0.5890 - accuracy: 0.7928\n",
            "Classification Report for NET C: \n",
            "               precision    recall  f1-score   support\n",
            "\n",
            "           0       0.66      0.60      0.63      1000\n",
            "           1       0.70      0.71      0.71      1000\n",
            "           2       0.42      0.54      0.47      1000\n",
            "           3       0.42      0.43      0.43      1000\n",
            "           4       0.57      0.46      0.51      1000\n",
            "           5       0.51      0.48      0.49      1000\n",
            "           6       0.62      0.76      0.68      1000\n",
            "           7       0.65      0.68      0.66      1000\n",
            "           8       0.78      0.66      0.72      1000\n",
            "           9       0.70      0.64      0.67      1000\n",
            "\n",
            "    accuracy                           0.60     10000\n",
            "   macro avg       0.60      0.60      0.60     10000\n",
            "weighted avg       0.60      0.60      0.60     10000\n",
            "\n"
          ],
          "name": "stdout"
        }
      ]
    },
    {
      "cell_type": "code",
      "metadata": {
        "id": "UXqjn19b2oRz"
      },
      "source": [
        ""
      ],
      "execution_count": null,
      "outputs": []
    }
  ]
}